{
 "cells": [
  {
   "cell_type": "markdown",
   "metadata": {},
   "source": [
    "# Ejercico Redes Convolucionales con Pytorch\n",
    "\n",
    "Clasificación de imágenes\n",
    "\n"
   ]
  },
  {
   "cell_type": "code",
   "execution_count": 11,
   "metadata": {},
   "outputs": [
    {
     "name": "stdout",
     "output_type": "stream",
     "text": [
      "Using cuda device\n"
     ]
    }
   ],
   "source": [
    "# Inicialización\n",
    "import torch\n",
    "\n",
    "# Get cpu, gpu or mps device for training.\n",
    "device = (\n",
    "    \"cuda\"\n",
    "    if torch.cuda.is_available()\n",
    "    else \"mps\"\n",
    "    if torch.backends.mps.is_available()\n",
    "    else \"cpu\"\n",
    ")\n",
    "print(f\"Using {device} device\")\n"
   ]
  },
  {
   "cell_type": "code",
   "execution_count": 12,
   "metadata": {},
   "outputs": [],
   "source": [
    "# Definición de constantes \n",
    "import os\n",
    "\n",
    "# esto es para que funcione matplotlib \n",
    "os.environ['KMP_DUPLICATE_LIB_OK'] = 'True'\n",
    "\n",
    "BATCH_SIZE = 64\n",
    "EPOCHS = 30\n",
    "IMAGE_SIZE = 512\n",
    "DATASET_DIR = 'data/DatasetTumoresCerebrales/'\n",
    "MODELS_DIR = 'models/'\n"
   ]
  },
  {
   "cell_type": "markdown",
   "metadata": {},
   "source": [
    "## Dataset"
   ]
  },
  {
   "cell_type": "markdown",
   "metadata": {},
   "source": [
    "Como se puede observar en el dataset existe un desbalance en las clases tanto en train como en test.\n",
    "\n",
    "Para solucionar esto aplicaremos oversampling:\n",
    "- Aumentaremos el peso de las clases donde haya menos imágenes.\n",
    "- Aplicaremos DataAugmentation.\n"
   ]
  },
  {
   "cell_type": "code",
   "execution_count": 13,
   "metadata": {},
   "outputs": [],
   "source": [
    "# Cargamos dataset\n",
    "from torchvision import datasets\n",
    "from torchvision.transforms import Compose, RandomHorizontalFlip, RandomVerticalFlip, ToTensor, RandomRotation, Grayscale\n",
    "import torch.utils.data as data\n",
    "\n",
    "#Aumento de datos\n",
    "transforms = Compose(\n",
    "    [\n",
    "        Grayscale(),\n",
    "        RandomRotation(30),\n",
    "        RandomHorizontalFlip(),\n",
    "        RandomVerticalFlip(),\n",
    "        ToTensor()\n",
    "    ]\n",
    ")\n",
    "\n",
    "train_data = datasets.ImageFolder(DATASET_DIR+'training',transform= transforms)\n",
    "train, validation = data.random_split(train_data, [0.8, 0.2])\n",
    "testing = datasets.ImageFolder(DATASET_DIR+'test', transform= transforms)\n",
    "\n",
    "#Dado los datos que tenemos del dataset y el desbalance creamos el siguiente sampler\n",
    "sampler = data.WeightedRandomSampler([1/1283, 1/637, 1/837], len(train_data), replacement = True)"
   ]
  },
  {
   "cell_type": "code",
   "execution_count": 14,
   "metadata": {},
   "outputs": [
    {
     "data": {
      "text/plain": [
       "torch.Size([1, 512, 512])"
      ]
     },
     "execution_count": 14,
     "metadata": {},
     "output_type": "execute_result"
    }
   ],
   "source": [
    "train_data[0][0].shape"
   ]
  },
  {
   "cell_type": "code",
   "execution_count": 15,
   "metadata": {},
   "outputs": [],
   "source": [
    "train_dataloader = data.DataLoader(train, batch_size=BATCH_SIZE, sampler= sampler)\n",
    "val_dataloader = data.DataLoader(validation, batch_size=BATCH_SIZE, sampler= sampler)\n",
    "test_dataloader = data.DataLoader(testing, batch_size=BATCH_SIZE, sampler= sampler)"
   ]
  },
  {
   "cell_type": "markdown",
   "metadata": {},
   "source": [
    "## Elección de Arquitectura\n",
    "\n",
    "### Red Convolucional"
   ]
  },
  {
   "cell_type": "code",
   "execution_count": 16,
   "metadata": {},
   "outputs": [],
   "source": [
    "from torch import nn\n",
    "from torchinfo import summary\n",
    "\n",
    "#Bloque convolucional normalizado\n",
    "def bloque_conv_norm(in_features, out_features):\n",
    "    return nn.Sequential(\n",
    "            nn.Conv2d(in_features, out_features, 4, 1),\n",
    "            nn.BatchNorm2d(out_features),\n",
    "            nn.ReLU(),\n",
    "            nn.MaxPool2d(2)\n",
    "        )\n",
    "\n",
    "class ConvNet(nn.Module):\n",
    "    def __init__(self):\n",
    "        super(ConvNet, self).__init__()\n",
    "        self.conv1 = bloque_conv_norm(1, 32)\n",
    "        self.conv2 = bloque_conv_norm(32, 64)\n",
    "        self.conv3 = bloque_conv_norm(64, 64)\n",
    "        self.linear_out = nn.Sequential(\n",
    "            nn.Flatten(),\n",
    "            nn.Dropout(0.5),\n",
    "            nn.Linear(238144, 3)\n",
    "        )\n",
    "    \n",
    "    def forward(self, x):\n",
    "        x = self.conv1(x)\n",
    "        x = self.conv2(x)\n",
    "        x = self.conv3(x)\n",
    "        logits = self.linear_out(x)\n",
    "        return logits\n"
   ]
  },
  {
   "cell_type": "code",
   "execution_count": 17,
   "metadata": {},
   "outputs": [
    {
     "data": {
      "text/plain": [
       "========================================================================================================================\n",
       "Layer (type (var_name))                  Input Shape          Output Shape         Param #              Trainable\n",
       "========================================================================================================================\n",
       "ConvNet (ConvNet)                        [64, 1, 512, 512]    [64, 3]              --                   True\n",
       "├─Sequential (conv1)                     [64, 1, 512, 512]    [64, 32, 254, 254]   --                   True\n",
       "│    └─Conv2d (0)                        [64, 1, 512, 512]    [64, 32, 509, 509]   544                  True\n",
       "│    └─BatchNorm2d (1)                   [64, 32, 509, 509]   [64, 32, 509, 509]   64                   True\n",
       "│    └─ReLU (2)                          [64, 32, 509, 509]   [64, 32, 509, 509]   --                   --\n",
       "│    └─MaxPool2d (3)                     [64, 32, 509, 509]   [64, 32, 254, 254]   --                   --\n",
       "├─Sequential (conv2)                     [64, 32, 254, 254]   [64, 64, 125, 125]   --                   True\n",
       "│    └─Conv2d (0)                        [64, 32, 254, 254]   [64, 64, 251, 251]   32,832               True\n",
       "│    └─BatchNorm2d (1)                   [64, 64, 251, 251]   [64, 64, 251, 251]   128                  True\n",
       "│    └─ReLU (2)                          [64, 64, 251, 251]   [64, 64, 251, 251]   --                   --\n",
       "│    └─MaxPool2d (3)                     [64, 64, 251, 251]   [64, 64, 125, 125]   --                   --\n",
       "├─Sequential (conv3)                     [64, 64, 125, 125]   [64, 64, 61, 61]     --                   True\n",
       "│    └─Conv2d (0)                        [64, 64, 125, 125]   [64, 64, 122, 122]   65,600               True\n",
       "│    └─BatchNorm2d (1)                   [64, 64, 122, 122]   [64, 64, 122, 122]   128                  True\n",
       "│    └─ReLU (2)                          [64, 64, 122, 122]   [64, 64, 122, 122]   --                   --\n",
       "│    └─MaxPool2d (3)                     [64, 64, 122, 122]   [64, 64, 61, 61]     --                   --\n",
       "├─Sequential (linear_out)                [64, 64, 61, 61]     [64, 3]              --                   True\n",
       "│    └─Flatten (0)                       [64, 64, 61, 61]     [64, 238144]         --                   --\n",
       "│    └─Dropout (1)                       [64, 238144]         [64, 238144]         --                   --\n",
       "│    └─Linear (2)                        [64, 238144]         [64, 3]              714,435              True\n",
       "========================================================================================================================\n",
       "Total params: 813,731\n",
       "Trainable params: 813,731\n",
       "Non-trainable params: 0\n",
       "Total mult-adds (Units.GIGABYTES): 203.94\n",
       "========================================================================================================================\n",
       "Input size (MB): 67.11\n",
       "Forward/backward pass size (MB): 13593.84\n",
       "Params size (MB): 3.25\n",
       "Estimated Total Size (MB): 13664.20\n",
       "========================================================================================================================"
      ]
     },
     "execution_count": 17,
     "metadata": {},
     "output_type": "execute_result"
    }
   ],
   "source": [
    "# creamos el modelo\n",
    "torch.cuda.empty_cache()\n",
    "model = ConvNet() #ConvNet1 #ConvNet2\n",
    "model.to(device)\n",
    "\n",
    "summary(model,\n",
    "        input_size=(BATCH_SIZE, 1, IMAGE_SIZE, IMAGE_SIZE),\n",
    "        col_names=[\"input_size\", \"output_size\", \"num_params\", \"trainable\"],\n",
    "        col_width=20,\n",
    "        row_settings=[\"var_names\"])"
   ]
  },
  {
   "cell_type": "code",
   "execution_count": 18,
   "metadata": {},
   "outputs": [],
   "source": [
    "\n",
    "# función de entrenamiento\n",
    "def train(dataloader, model, loss_fn, optimizer, losses, accuracy):\n",
    "    size = len(dataloader.dataset)\n",
    "\n",
    "    model.train()\n",
    "    correct = 0\n",
    "    for batch, (X, y) in enumerate(dataloader):\n",
    "        X, y = X.to(device), y.to(device)\n",
    "\n",
    "        # Compute prediction error\n",
    "        pred = model(X)\n",
    "        loss = loss_fn(pred, y)\n",
    "\n",
    "        # Backpropagation\n",
    "        loss.backward()\n",
    "        optimizer.step()\n",
    "        optimizer.zero_grad()\n",
    "\n",
    "        correct += (pred.argmax(1) == y).type(torch.float).sum().item()\n",
    "\n",
    "        if batch % 100 == 0:\n",
    "            current = (batch + 1) * len(X)\n",
    "            train_acc = 100*correct / size\n",
    "            losses.append(loss.item())\n",
    "            print(f\"Accuracy: {train_acc:>0.1f}%, Avg loss: {loss.item():>8f} [{current:>5d}/{size:>5d}]\")\n",
    "\n",
    "    train_acc = 100*correct/size\n",
    "    accuracy.append(train_acc)\n",
    "\n",
    "def validate(dataloader, model, loss_fn, losses, accuracy):\n",
    "    size = len(dataloader.dataset)\n",
    "    num_batches = len(dataloader)\n",
    "    model.eval()\n",
    "    val_loss, correct = 0, 0\n",
    "    with torch.no_grad():\n",
    "        for X, y in dataloader:\n",
    "            X, y = X.to(device), y.to(device)\n",
    "            pred = model(X)\n",
    "            val_loss += loss_fn(pred, y).item()\n",
    "            correct += (pred.argmax(1) == y).type(torch.float).sum().item()\n",
    "    val_loss /= num_batches\n",
    "    val_acc = 100 * correct / size\n",
    "    losses.append(val_loss)\n",
    "    accuracy.append(val_acc)\n",
    "    print(f\"Validation: Accuracy: {val_acc:>0.1f}%, Avg loss: {val_acc:>8f} \\n\")\n",
    "\n",
    "# función de test\n",
    "def test(dataloader, model, loss_fn, losses, accuracy):\n",
    "    size = len(dataloader.dataset)\n",
    "    num_batches = len(dataloader)\n",
    "    model.eval()\n",
    "    test_loss, correct = 0, 0\n",
    "    with torch.no_grad():\n",
    "        for X, y in dataloader:\n",
    "            X, y = X.to(device), y.to(device)\n",
    "            pred = model(X)\n",
    "            test_loss += loss_fn(pred, y).item()\n",
    "            correct += (pred.argmax(1) == y).type(torch.float).sum().item()\n",
    "    test_loss /= num_batches\n",
    "    test_acc = 100*correct/size\n",
    "    losses.append(test_loss)\n",
    "    accuracy.append(test_acc)\n",
    "    print(f\"Test Error: \\n Accuracy: {test_acc:>0.1f}%, Avg loss: {test_loss:>8f} \\n\")"
   ]
  },
  {
   "cell_type": "code",
   "execution_count": 19,
   "metadata": {},
   "outputs": [
    {
     "name": "stdout",
     "output_type": "stream",
     "text": [
      "Epoch 1/5\n",
      "-------------------------------\n",
      "Accuracy: 1.6%, Avg loss: 0.971739 [   64/ 2206]\n",
      "Validation: Accuracy: 184.0%, Avg loss: 714.872550 \n",
      "\n",
      "Epoch 2/5\n",
      "-------------------------------\n",
      "Accuracy: 2.9%, Avg loss: 0.000000 [   64/ 2206]\n",
      "Validation: Accuracy: 110.7%, Avg loss: 625.700648 \n",
      "\n",
      "Epoch 3/5\n",
      "-------------------------------\n",
      "Accuracy: 2.9%, Avg loss: 0.000000 [   64/ 2206]\n",
      "Validation: Accuracy: 114.2%, Avg loss: 627.368396 \n",
      "\n",
      "Epoch 4/5\n",
      "-------------------------------\n",
      "Accuracy: 2.9%, Avg loss: 0.000000 [   64/ 2206]\n",
      "Validation: Accuracy: 114.0%, Avg loss: 623.724537 \n",
      "\n",
      "Epoch 5/5\n",
      "-------------------------------\n",
      "Accuracy: 2.9%, Avg loss: 0.000000 [   64/ 2206]\n",
      "Validation: Accuracy: 111.6%, Avg loss: 615.748575 \n",
      "\n",
      "Training and Validation Done!\n",
      "Test Error: \n",
      " Accuracy: 502.9%, Avg loss: 821.571333 \n",
      "\n",
      "Test Done!\n",
      "Model saved as model_cnn.pth\n"
     ]
    }
   ],
   "source": [
    "from torch import optim\n",
    "\n",
    "# Define the loss function and optimizer\n",
    "loss_fn = nn.CrossEntropyLoss()\n",
    "optimizer = optim.Adam(model.parameters(), lr=0.01)\n",
    "scheduler = optim.lr_scheduler.ReduceLROnPlateau(optimizer)\n",
    "\n",
    "# Number of epochs\n",
    "EPOCHS = 5\n",
    "\n",
    "# Lists to store training and validation results\n",
    "train_loss = []\n",
    "val_loss_list = []\n",
    "test_loss = []\n",
    "train_acc_list = []\n",
    "val_acc_list = []\n",
    "test_acc = []\n",
    "\n",
    "for t in range(EPOCHS):\n",
    "    print(f\"Epoch {t + 1}/{EPOCHS}\\n-------------------------------\")\n",
    "    \n",
    "    # Training phase\n",
    "    size = len(train_dataloader.dataset)\n",
    "\n",
    "    model.train()\n",
    "    correct = 0\n",
    "    for batch, (X, y) in enumerate(train_dataloader):\n",
    "        X, y = X.to(device), y.to(device)\n",
    "\n",
    "        # Compute prediction error\n",
    "        pred = model(X)\n",
    "        loss = loss_fn(pred, y)\n",
    "\n",
    "        # Backpropagation\n",
    "        loss.backward()\n",
    "        optimizer.step()\n",
    "        optimizer.zero_grad()\n",
    "\n",
    "        correct += (pred.argmax(1) == y).type(torch.float).sum().item()\n",
    "\n",
    "        if batch % 100 == 0:\n",
    "            current = (batch + 1) * len(X)\n",
    "            train_acc = 100*correct / size\n",
    "            train_loss.append(loss.item())\n",
    "            print(f\"Accuracy: {train_acc:>0.1f}%, Avg loss: {loss.item():>8f} [{current:>5d}/{size:>5d}]\")\n",
    "\n",
    "    train_acc = 100*correct/size\n",
    "    \n",
    "    train_acc_list.append(train_acc)\n",
    "\n",
    "    # Validation phase\n",
    "    size = len(val_dataloader.dataset)\n",
    "    num_batches = len(val_dataloader)\n",
    "    model.eval()\n",
    "    val_loss, correct = 0, 0\n",
    "    with torch.no_grad():\n",
    "        for X, y in val_dataloader:\n",
    "            X, y = X.to(device), y.to(device)\n",
    "            pred = model(X)\n",
    "            val_loss += loss_fn(pred, y).item()\n",
    "            correct += (pred.argmax(1) == y).type(torch.float).sum().item()\n",
    "    val_loss /= num_batches\n",
    "    val_acc = 100 * correct / size\n",
    "    val_loss_list.append(val_loss)\n",
    "    val_acc_list.append(val_acc)\n",
    "    print(f\"Validation: Accuracy: {val_acc:>0.1f}%, Avg loss: {val_loss:>8f} \\n\")\n",
    "    \n",
    "    scheduler.step(val_loss)\n",
    "    \n",
    "\n",
    "print(\"Training and Validation Done!\")\n",
    "\n",
    "test(test_dataloader, model, loss_fn, test_loss, test_acc)\n",
    "print(\"Test Done!\")\n",
    "\n",
    "# Save the trained model\n",
    "torch.save(model.state_dict(), MODELS_DIR + \"model_cnn.pth\")\n",
    "print(\"Model saved as model_cnn.pth\")\n"
   ]
  },
  {
   "cell_type": "code",
   "execution_count": 20,
   "metadata": {},
   "outputs": [
    {
     "ename": "ValueError",
     "evalue": "x and y must have same first dimension, but have shapes (5,) and (1,)",
     "output_type": "error",
     "traceback": [
      "\u001b[1;31m---------------------------------------------------------------------------\u001b[0m",
      "\u001b[1;31mValueError\u001b[0m                                Traceback (most recent call last)",
      "\u001b[1;32mc:\\Users\\adria\\Documents\\GitHub\\TumorClasiffication_Practice\\ClasificacionImagenesTumores.ipynb Cell 14\u001b[0m line \u001b[0;36m2\n\u001b[0;32m     <a href='vscode-notebook-cell:/c%3A/Users/adria/Documents/GitHub/TumorClasiffication_Practice/ClasificacionImagenesTumores.ipynb#X20sZmlsZQ%3D%3D?line=21'>22</a>\u001b[0m     plt\u001b[39m.\u001b[39mylabel(\u001b[39m'\u001b[39m\u001b[39mAccuracy\u001b[39m\u001b[39m'\u001b[39m)\n\u001b[0;32m     <a href='vscode-notebook-cell:/c%3A/Users/adria/Documents/GitHub/TumorClasiffication_Practice/ClasificacionImagenesTumores.ipynb#X20sZmlsZQ%3D%3D?line=22'>23</a>\u001b[0m     plt\u001b[39m.\u001b[39msavefig(\u001b[39m'\u001b[39m\u001b[39maccuracy_plot.png\u001b[39m\u001b[39m'\u001b[39m)\n\u001b[1;32m---> <a href='vscode-notebook-cell:/c%3A/Users/adria/Documents/GitHub/TumorClasiffication_Practice/ClasificacionImagenesTumores.ipynb#X20sZmlsZQ%3D%3D?line=24'>25</a>\u001b[0m draw_graphics(train_loss, val_loss, test_loss, train_acc, val_acc, test_acc)\n",
      "\u001b[1;32mc:\\Users\\adria\\Documents\\GitHub\\TumorClasiffication_Practice\\ClasificacionImagenesTumores.ipynb Cell 14\u001b[0m line \u001b[0;36m9\n\u001b[0;32m      <a href='vscode-notebook-cell:/c%3A/Users/adria/Documents/GitHub/TumorClasiffication_Practice/ClasificacionImagenesTumores.ipynb#X20sZmlsZQ%3D%3D?line=6'>7</a>\u001b[0m plt\u001b[39m.\u001b[39mfigure()\n\u001b[0;32m      <a href='vscode-notebook-cell:/c%3A/Users/adria/Documents/GitHub/TumorClasiffication_Practice/ClasificacionImagenesTumores.ipynb#X20sZmlsZQ%3D%3D?line=7'>8</a>\u001b[0m plt\u001b[39m.\u001b[39mplot(x, train_loss, color\u001b[39m=\u001b[39m\u001b[39m'\u001b[39m\u001b[39mblue\u001b[39m\u001b[39m'\u001b[39m)\n\u001b[1;32m----> <a href='vscode-notebook-cell:/c%3A/Users/adria/Documents/GitHub/TumorClasiffication_Practice/ClasificacionImagenesTumores.ipynb#X20sZmlsZQ%3D%3D?line=8'>9</a>\u001b[0m plt\u001b[39m.\u001b[39mplot(x, val_loss, color\u001b[39m=\u001b[39m\u001b[39m'\u001b[39m\u001b[39mgreen\u001b[39m\u001b[39m'\u001b[39m)\n\u001b[0;32m     <a href='vscode-notebook-cell:/c%3A/Users/adria/Documents/GitHub/TumorClasiffication_Practice/ClasificacionImagenesTumores.ipynb#X20sZmlsZQ%3D%3D?line=9'>10</a>\u001b[0m plt\u001b[39m.\u001b[39mplot(x, test_loss, color\u001b[39m=\u001b[39m\u001b[39m'\u001b[39m\u001b[39mred\u001b[39m\u001b[39m'\u001b[39m)\n\u001b[0;32m     <a href='vscode-notebook-cell:/c%3A/Users/adria/Documents/GitHub/TumorClasiffication_Practice/ClasificacionImagenesTumores.ipynb#X20sZmlsZQ%3D%3D?line=10'>11</a>\u001b[0m plt\u001b[39m.\u001b[39mlegend([\u001b[39m'\u001b[39m\u001b[39mTrain Loss\u001b[39m\u001b[39m'\u001b[39m, \u001b[39m'\u001b[39m\u001b[39mValidation Loss\u001b[39m\u001b[39m'\u001b[39m, \u001b[39m'\u001b[39m\u001b[39mTest Loss\u001b[39m\u001b[39m'\u001b[39m], loc\u001b[39m=\u001b[39m\u001b[39m'\u001b[39m\u001b[39mupper right\u001b[39m\u001b[39m'\u001b[39m)\n",
      "File \u001b[1;32mc:\\Users\\adria\\miniconda3\\envs\\cuda\\Lib\\site-packages\\matplotlib\\pyplot.py:2812\u001b[0m, in \u001b[0;36mplot\u001b[1;34m(scalex, scaley, data, *args, **kwargs)\u001b[0m\n\u001b[0;32m   2810\u001b[0m \u001b[39m@_copy_docstring_and_deprecators\u001b[39m(Axes\u001b[39m.\u001b[39mplot)\n\u001b[0;32m   2811\u001b[0m \u001b[39mdef\u001b[39;00m \u001b[39mplot\u001b[39m(\u001b[39m*\u001b[39margs, scalex\u001b[39m=\u001b[39m\u001b[39mTrue\u001b[39;00m, scaley\u001b[39m=\u001b[39m\u001b[39mTrue\u001b[39;00m, data\u001b[39m=\u001b[39m\u001b[39mNone\u001b[39;00m, \u001b[39m*\u001b[39m\u001b[39m*\u001b[39mkwargs):\n\u001b[1;32m-> 2812\u001b[0m     \u001b[39mreturn\u001b[39;00m gca()\u001b[39m.\u001b[39mplot(\n\u001b[0;32m   2813\u001b[0m         \u001b[39m*\u001b[39margs, scalex\u001b[39m=\u001b[39mscalex, scaley\u001b[39m=\u001b[39mscaley,\n\u001b[0;32m   2814\u001b[0m         \u001b[39m*\u001b[39m\u001b[39m*\u001b[39m({\u001b[39m\"\u001b[39m\u001b[39mdata\u001b[39m\u001b[39m\"\u001b[39m: data} \u001b[39mif\u001b[39;00m data \u001b[39mis\u001b[39;00m \u001b[39mnot\u001b[39;00m \u001b[39mNone\u001b[39;00m \u001b[39melse\u001b[39;00m {}), \u001b[39m*\u001b[39m\u001b[39m*\u001b[39mkwargs)\n",
      "File \u001b[1;32mc:\\Users\\adria\\miniconda3\\envs\\cuda\\Lib\\site-packages\\matplotlib\\axes\\_axes.py:1688\u001b[0m, in \u001b[0;36mAxes.plot\u001b[1;34m(self, scalex, scaley, data, *args, **kwargs)\u001b[0m\n\u001b[0;32m   1445\u001b[0m \u001b[39m\u001b[39m\u001b[39m\"\"\"\u001b[39;00m\n\u001b[0;32m   1446\u001b[0m \u001b[39mPlot y versus x as lines and/or markers.\u001b[39;00m\n\u001b[0;32m   1447\u001b[0m \n\u001b[1;32m   (...)\u001b[0m\n\u001b[0;32m   1685\u001b[0m \u001b[39m(``'green'``) or hex strings (``'#008000'``).\u001b[39;00m\n\u001b[0;32m   1686\u001b[0m \u001b[39m\"\"\"\u001b[39;00m\n\u001b[0;32m   1687\u001b[0m kwargs \u001b[39m=\u001b[39m cbook\u001b[39m.\u001b[39mnormalize_kwargs(kwargs, mlines\u001b[39m.\u001b[39mLine2D)\n\u001b[1;32m-> 1688\u001b[0m lines \u001b[39m=\u001b[39m [\u001b[39m*\u001b[39m\u001b[39mself\u001b[39m\u001b[39m.\u001b[39m_get_lines(\u001b[39m*\u001b[39margs, data\u001b[39m=\u001b[39mdata, \u001b[39m*\u001b[39m\u001b[39m*\u001b[39mkwargs)]\n\u001b[0;32m   1689\u001b[0m \u001b[39mfor\u001b[39;00m line \u001b[39min\u001b[39;00m lines:\n\u001b[0;32m   1690\u001b[0m     \u001b[39mself\u001b[39m\u001b[39m.\u001b[39madd_line(line)\n",
      "File \u001b[1;32mc:\\Users\\adria\\miniconda3\\envs\\cuda\\Lib\\site-packages\\matplotlib\\axes\\_base.py:311\u001b[0m, in \u001b[0;36m_process_plot_var_args.__call__\u001b[1;34m(self, data, *args, **kwargs)\u001b[0m\n\u001b[0;32m    309\u001b[0m     this \u001b[39m+\u001b[39m\u001b[39m=\u001b[39m args[\u001b[39m0\u001b[39m],\n\u001b[0;32m    310\u001b[0m     args \u001b[39m=\u001b[39m args[\u001b[39m1\u001b[39m:]\n\u001b[1;32m--> 311\u001b[0m \u001b[39myield from\u001b[39;00m \u001b[39mself\u001b[39m\u001b[39m.\u001b[39m_plot_args(\n\u001b[0;32m    312\u001b[0m     this, kwargs, ambiguous_fmt_datakey\u001b[39m=\u001b[39mambiguous_fmt_datakey)\n",
      "File \u001b[1;32mc:\\Users\\adria\\miniconda3\\envs\\cuda\\Lib\\site-packages\\matplotlib\\axes\\_base.py:504\u001b[0m, in \u001b[0;36m_process_plot_var_args._plot_args\u001b[1;34m(self, tup, kwargs, return_kwargs, ambiguous_fmt_datakey)\u001b[0m\n\u001b[0;32m    501\u001b[0m     \u001b[39mself\u001b[39m\u001b[39m.\u001b[39maxes\u001b[39m.\u001b[39myaxis\u001b[39m.\u001b[39mupdate_units(y)\n\u001b[0;32m    503\u001b[0m \u001b[39mif\u001b[39;00m x\u001b[39m.\u001b[39mshape[\u001b[39m0\u001b[39m] \u001b[39m!=\u001b[39m y\u001b[39m.\u001b[39mshape[\u001b[39m0\u001b[39m]:\n\u001b[1;32m--> 504\u001b[0m     \u001b[39mraise\u001b[39;00m \u001b[39mValueError\u001b[39;00m(\u001b[39mf\u001b[39m\u001b[39m\"\u001b[39m\u001b[39mx and y must have same first dimension, but \u001b[39m\u001b[39m\"\u001b[39m\n\u001b[0;32m    505\u001b[0m                      \u001b[39mf\u001b[39m\u001b[39m\"\u001b[39m\u001b[39mhave shapes \u001b[39m\u001b[39m{\u001b[39;00mx\u001b[39m.\u001b[39mshape\u001b[39m}\u001b[39;00m\u001b[39m and \u001b[39m\u001b[39m{\u001b[39;00my\u001b[39m.\u001b[39mshape\u001b[39m}\u001b[39;00m\u001b[39m\"\u001b[39m)\n\u001b[0;32m    506\u001b[0m \u001b[39mif\u001b[39;00m x\u001b[39m.\u001b[39mndim \u001b[39m>\u001b[39m \u001b[39m2\u001b[39m \u001b[39mor\u001b[39;00m y\u001b[39m.\u001b[39mndim \u001b[39m>\u001b[39m \u001b[39m2\u001b[39m:\n\u001b[0;32m    507\u001b[0m     \u001b[39mraise\u001b[39;00m \u001b[39mValueError\u001b[39;00m(\u001b[39mf\u001b[39m\u001b[39m\"\u001b[39m\u001b[39mx and y can be no greater than 2D, but have \u001b[39m\u001b[39m\"\u001b[39m\n\u001b[0;32m    508\u001b[0m                      \u001b[39mf\u001b[39m\u001b[39m\"\u001b[39m\u001b[39mshapes \u001b[39m\u001b[39m{\u001b[39;00mx\u001b[39m.\u001b[39mshape\u001b[39m}\u001b[39;00m\u001b[39m and \u001b[39m\u001b[39m{\u001b[39;00my\u001b[39m.\u001b[39mshape\u001b[39m}\u001b[39;00m\u001b[39m\"\u001b[39m)\n",
      "\u001b[1;31mValueError\u001b[0m: x and y must have same first dimension, but have shapes (5,) and (1,)"
     ]
    },
    {
     "data": {
      "image/png": "[encoded data removed]",
      "text/plain": [
       "<Figure size 640x480 with 1 Axes>"
      ]
     },
     "metadata": {},
     "output_type": "display_data"
    }
   ],
   "source": [
    "import matplotlib.pyplot as plt\n",
    "\n",
    "def draw_graphics(train_loss, val_loss, test_loss, train_acc, val_acc, test_acc):\n",
    "    # Dibujamos las gráficas\n",
    "    x = range(len(train_loss))\n",
    "    \n",
    "    plt.figure()\n",
    "    plt.plot(x, train_loss, color='blue')\n",
    "    plt.plot(x, val_loss, color='green')\n",
    "    plt.plot(x, test_loss, color='red')\n",
    "    plt.legend(['Train Loss', 'Validation Loss', 'Test Loss'], loc='upper right')\n",
    "    plt.xlabel('Epochs')\n",
    "    plt.ylabel('Loss')\n",
    "    plt.savefig('loss_plot.png')\n",
    "\n",
    "    plt.figure()\n",
    "    plt.plot(x, train_acc, color='blue')\n",
    "    plt.plot(x, val_acc, color='green')\n",
    "    plt.plot(x, test_acc, color='red')\n",
    "    plt.legend(['Train Accuracy', 'Validation Accuracy', 'Test Accuracy'], loc='lower right')\n",
    "    plt.xlabel('Epochs')\n",
    "    plt.ylabel('Accuracy')\n",
    "    plt.savefig('accuracy_plot.png')\n",
    "\n",
    "draw_graphics(train_loss, val_loss_list, test_loss, train_acc_list, val_acc_list, test_acc)\n",
    "train_loss = []\n",
    "val_loss_list = []\n",
    "test_loss = []\n",
    "train_acc_list = []\n",
    "val_acc_list = []\n",
    "test_acc = []"
   ]
  },
  {
   "cell_type": "markdown",
   "metadata": {},
   "source": [
    "# Transfer Learning: ResNet18 y EfficientNet_V2_S"
   ]
  },
  {
   "cell_type": "markdown",
   "metadata": {},
   "source": [
    "## ResNet18"
   ]
  },
  {
   "cell_type": "code",
   "execution_count": null,
   "metadata": {},
   "outputs": [],
   "source": [
    "from torchvision import datasets\n",
    "from torch.utils.data import DataLoader, Subset\n",
    "from torchvision.models import resnet18, ResNet18_Weights\n",
    "from torchvision.transforms import Compose, Grayscale\n",
    "import numpy as np\n",
    "\n",
    "# Instanciamos el modelo ResNet18 con los pesos por defecto\n",
    "weights=ResNet18_Weights.DEFAULT\n",
    "auto_transforms = weights.transforms()\n",
    "\n",
    "# Cargamos el dataset con las transformaciones originales\n",
    "transform=Compose(\n",
    "    [\n",
    "        RandomRotation(30),\n",
    "        RandomHorizontalFlip(),\n",
    "        RandomVerticalFlip(),\n",
    "        auto_transforms,\n",
    "    ]\n",
    "    )\n",
    "\n",
    "training = datasets.MNIST('data', train=True, download=True,\n",
    "                          transform=transform)\n",
    "testing = datasets.MNIST('data', train=False, download=True,\n",
    "                      transform=transform)\n",
    "\n",
    "# Seleccionamos un subconjunto de imágenes de entrenamiento \n",
    "reduced_training = Subset(training, range(2500))\n",
    "\n",
    "train_dataloader = DataLoader(reduced_training, batch_size=BATCH_SIZE)\n",
    "test_dataloader = DataLoader(testing, batch_size=BATCH_SIZE)\n",
    "\n",
    "# Estructura de los batches\n",
    "for X, y in test_dataloader:\n",
    "    print(f\"Shape of X [N, C, H, W]: {X.shape}\")\n",
    "    print(f\"Shape of y: {y.shape} {y.dtype}\")\n",
    "    break\n",
    "\n",
    "# Creamos el modelo y congelamos parámetros de la red\n",
    "model = resnet18(weights=weights).to(device)\n",
    "for name, para in model.named_parameters():\n",
    "    para.requires_grad = False\n",
    "\n",
    "# Cambiamos la capa superior con una capa Lineal con 10 clases de salida\n",
    "num_features = model.fc.in_features\n",
    "model.fc = torch.nn.Linear(in_features=num_features,\n",
    "                    out_features=num_classes,\n",
    "                    bias=True).to(device)\n",
    "\n",
    "summary(model,\n",
    "        input_size=(BATCH_SIZE, 3, IMAGE_SIZE, IMAGE_SIZE),\n",
    "        col_names=[\"input_size\", \"output_size\", \"num_params\", \"trainable\"],\n",
    "        col_width=20,\n",
    "        row_settings=[\"var_names\"]\n",
    ")"
   ]
  }
 ],
 "metadata": {
  "kernelspec": {
   "display_name": "cuda",
   "language": "python",
   "name": "python3"
  },
  "language_info": {
   "codemirror_mode": {
    "name": "ipython",
    "version": 3
   },
   "file_extension": ".py",
   "mimetype": "text/x-python",
   "name": "python",
   "nbconvert_exporter": "python",
   "pygments_lexer": "ipython3",
   "version": "3.11.5"
  }
 },
 "nbformat": 4,
 "nbformat_minor": 2
}

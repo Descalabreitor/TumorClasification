{
 "cells": [
  {
   "cell_type": "markdown",
   "metadata": {},
   "source": [
    "# Ejercico Redes Convolucionales con Pytorch\n",
    "\n",
    "Clasificación de imágenes\n",
    "\n"
   ]
  },
  {
   "cell_type": "code",
   "execution_count": 1,
   "metadata": {},
   "outputs": [
    {
     "name": "stdout",
     "output_type": "stream",
     "text": [
      "Using cuda device\n"
     ]
    }
   ],
   "source": [
    "# Inicialización\n",
    "import torch\n",
    "\n",
    "# Get cpu, gpu or mps device for training.\n",
    "device = (\n",
    "    \"cuda\"\n",
    "    if torch.cuda.is_available()\n",
    "    else \"mps\"\n",
    "    if torch.backends.mps.is_available()\n",
    "    else \"cpu\"\n",
    ")\n",
    "print(f\"Using {device} device\")\n"
   ]
  },
  {
   "cell_type": "code",
   "execution_count": 2,
   "metadata": {},
   "outputs": [],
   "source": [
    "# Definición de constantes \n",
    "import os\n",
    "\n",
    "# esto es para que funcione matplotlib \n",
    "os.environ['KMP_DUPLICATE_LIB_OK'] = 'True'\n",
    "\n",
    "BATCH_SIZE = 100\n",
    "IMAGE_SIZE = 512\n",
    "DATASET_DIR = 'data/DatasetTumoresCerebrales/'\n",
    "MODELS_DIR = 'models/'\n"
   ]
  },
  {
   "cell_type": "markdown",
   "metadata": {},
   "source": [
    "## Dataset"
   ]
  },
  {
   "cell_type": "markdown",
   "metadata": {},
   "source": [
    "Como se puede observar en el dataset existe un desbalance en las clases tanto en train como en test.\n",
    "\n",
    "Para solucionar esto aplicaremos oversampling:\n",
    "- Aumentaremos el peso de las clases donde haya menos imágenes.\n",
    "- Aplicaremos DataAugmentation.\n"
   ]
  },
  {
   "cell_type": "code",
   "execution_count": 3,
   "metadata": {},
   "outputs": [],
   "source": [
    "# Cargamos dataset\n",
    "from torchvision import datasets\n",
    "from torchvision.transforms import Compose, RandomHorizontalFlip, RandomVerticalFlip, ToTensor, RandomRotation, Grayscale\n",
    "import torch.utils.data as data\n",
    "\n",
    "#Aumento de datos\n",
    "transforms = Compose(\n",
    "    [\n",
    "        Grayscale(),\n",
    "        RandomRotation(30),\n",
    "        RandomHorizontalFlip(),\n",
    "        RandomVerticalFlip(),\n",
    "        ToTensor()\n",
    "    ]\n",
    ")\n",
    "\n",
    "train_data = datasets.ImageFolder(DATASET_DIR+'training',transform= transforms)\n",
    "train, validation = data.random_split(train_data, [0.8, 0.2])\n",
    "testing = datasets.ImageFolder(DATASET_DIR+'test', transform= transforms)\n",
    "\n",
    "#Dado los datos que tenemos del dataset y el desbalance creamos el siguiente sampler\n",
    "sampler = data.WeightedRandomSampler([1/1283, 1/637, 1/837], len(train_data), replacement = True)"
   ]
  },
  {
   "cell_type": "code",
   "execution_count": 4,
   "metadata": {},
   "outputs": [],
   "source": [
    "train_dataloader = data.DataLoader(train, batch_size=BATCH_SIZE, sampler= sampler)\n",
    "val_dataloader = data.DataLoader(validation, batch_size=BATCH_SIZE, sampler= sampler)\n",
    "test_dataloader = data.DataLoader(testing, batch_size=BATCH_SIZE, sampler= sampler)"
   ]
  },
  {
   "cell_type": "markdown",
   "metadata": {},
   "source": [
    "## Elección de Arquitectura\n",
    "\n",
    "### Red Convolucional"
   ]
  },
  {
   "cell_type": "code",
   "execution_count": 5,
   "metadata": {},
   "outputs": [],
   "source": [
    "from torch import nn\n",
    "from torchinfo import summary\n",
    "\n",
    "#Bloque convolucional normalizado\n",
    "def bloque_conv_norm(in_features, out_features):\n",
    "    return nn.Sequential(\n",
    "            nn.Conv2d(in_features, out_features, 3, 1),\n",
    "            nn.BatchNorm2d(out_features),\n",
    "            nn.ReLU(),\n",
    "            nn.MaxPool2d(2)\n",
    "        )\n",
    "\n",
    "class ConvNet(nn.Module):\n",
    "    def __init__(self):\n",
    "        super(ConvNet, self).__init__()\n",
    "        self.conv1 = bloque_conv_norm(1, 32)\n",
    "        self.conv2 = bloque_conv_norm(32, 64)\n",
    "        self.conv3 = bloque_conv_norm(64, 64)\n",
    "        self.conv4 = bloque_conv_norm(64, 32)\n",
    "        self.linear_out = nn.Sequential(\n",
    "            nn.Flatten(),\n",
    "            nn.Dropout(0.5),\n",
    "            nn.Linear(28800, 3)\n",
    "            )\n",
    "    \n",
    "    def forward(self, x):\n",
    "        x = self.conv1(x)\n",
    "        x = self.conv2(x)\n",
    "        x = self.conv3(x)\n",
    "        x = self.conv4(x)\n",
    "        logits = self.linear_out(x)\n",
    "        return logits\n"
   ]
  },
  {
   "cell_type": "code",
   "execution_count": 6,
   "metadata": {},
   "outputs": [
    {
     "data": {
      "text/plain": [
       "========================================================================================================================\n",
       "Layer (type (var_name))                  Input Shape          Output Shape         Param #              Trainable\n",
       "========================================================================================================================\n",
       "ConvNet (ConvNet)                        [100, 1, 512, 512]   [100, 3]             --                   True\n",
       "├─Sequential (conv1)                     [100, 1, 512, 512]   [100, 32, 255, 255]  --                   True\n",
       "│    └─Conv2d (0)                        [100, 1, 512, 512]   [100, 32, 510, 510]  320                  True\n",
       "│    └─BatchNorm2d (1)                   [100, 32, 510, 510]  [100, 32, 510, 510]  64                   True\n",
       "│    └─ReLU (2)                          [100, 32, 510, 510]  [100, 32, 510, 510]  --                   --\n",
       "│    └─MaxPool2d (3)                     [100, 32, 510, 510]  [100, 32, 255, 255]  --                   --\n",
       "├─Sequential (conv2)                     [100, 32, 255, 255]  [100, 64, 126, 126]  --                   True\n",
       "│    └─Conv2d (0)                        [100, 32, 255, 255]  [100, 64, 253, 253]  18,496               True\n",
       "│    └─BatchNorm2d (1)                   [100, 64, 253, 253]  [100, 64, 253, 253]  128                  True\n",
       "│    └─ReLU (2)                          [100, 64, 253, 253]  [100, 64, 253, 253]  --                   --\n",
       "│    └─MaxPool2d (3)                     [100, 64, 253, 253]  [100, 64, 126, 126]  --                   --\n",
       "├─Sequential (conv3)                     [100, 64, 126, 126]  [100, 64, 62, 62]    --                   True\n",
       "│    └─Conv2d (0)                        [100, 64, 126, 126]  [100, 64, 124, 124]  36,928               True\n",
       "│    └─BatchNorm2d (1)                   [100, 64, 124, 124]  [100, 64, 124, 124]  128                  True\n",
       "│    └─ReLU (2)                          [100, 64, 124, 124]  [100, 64, 124, 124]  --                   --\n",
       "│    └─MaxPool2d (3)                     [100, 64, 124, 124]  [100, 64, 62, 62]    --                   --\n",
       "├─Sequential (conv4)                     [100, 64, 62, 62]    [100, 32, 30, 30]    --                   True\n",
       "│    └─Conv2d (0)                        [100, 64, 62, 62]    [100, 32, 60, 60]    18,464               True\n",
       "│    └─BatchNorm2d (1)                   [100, 32, 60, 60]    [100, 32, 60, 60]    64                   True\n",
       "│    └─ReLU (2)                          [100, 32, 60, 60]    [100, 32, 60, 60]    --                   --\n",
       "│    └─MaxPool2d (3)                     [100, 32, 60, 60]    [100, 32, 30, 30]    --                   --\n",
       "├─Sequential (linear_out)                [100, 32, 30, 30]    [100, 3]             --                   True\n",
       "│    └─Flatten (0)                       [100, 32, 30, 30]    [100, 28800]         --                   --\n",
       "│    └─Dropout (1)                       [100, 28800]         [100, 28800]         --                   --\n",
       "│    └─Linear (2)                        [100, 28800]         [100, 3]             86,403               True\n",
       "========================================================================================================================\n",
       "Total params: 160,995\n",
       "Trainable params: 160,995\n",
       "Non-trainable params: 0\n",
       "Total mult-adds (Units.GIGABYTES): 190.15\n",
       "========================================================================================================================\n",
       "Input size (MB): 104.86\n",
       "Forward/backward pass size (MB): 21630.47\n",
       "Params size (MB): 0.64\n",
       "Estimated Total Size (MB): 21735.97\n",
       "========================================================================================================================"
      ]
     },
     "execution_count": 6,
     "metadata": {},
     "output_type": "execute_result"
    }
   ],
   "source": [
    "# creamos el modelo\n",
    "torch.cuda.empty_cache()\n",
    "model = ConvNet() #ConvNet1 #ConvNet2\n",
    "model.to(device)\n",
    "\n",
    "summary(model,\n",
    "        input_size=(BATCH_SIZE, 1, IMAGE_SIZE, IMAGE_SIZE),\n",
    "        col_names=[\"input_size\", \"output_size\", \"num_params\", \"trainable\"],\n",
    "        col_width=20,\n",
    "        row_settings=[\"var_names\"])"
   ]
  },
  {
   "cell_type": "code",
   "execution_count": 7,
   "metadata": {},
   "outputs": [],
   "source": [
    "from sklearn.metrics import accuracy_score, f1_score\n",
    "\n",
    "\n",
    "# función de entrenamiento\n",
    "def train(dataloader, model, loss_fn, optimizer):\n",
    "\n",
    "    model.train()\n",
    "    all_pred = []\n",
    "    all_labels = []    \n",
    "    \n",
    "    for batch, (inputs, labels) in enumerate(dataloader):\n",
    "        \n",
    "        inputs, labels = inputs.to(device), labels.to(device)\n",
    "\n",
    "        optimizer.zero_grad()\n",
    "        \n",
    "        # Compute prediction error\n",
    "        pred = model(inputs)\n",
    "        loss = loss_fn(pred, labels)\n",
    "\n",
    "        # Backpropagation\n",
    "        loss.backward()\n",
    "        optimizer.step()\n",
    "\n",
    "        _ ,pred_classes = torch.max(pred, 1)\n",
    "        \n",
    "        all_pred.extend(pred_classes.cpu().numpy())\n",
    "        all_labels.extend(labels.cpu().numpy())\n",
    "    \n",
    "    acc = accuracy_score(all_labels, all_pred)\n",
    "    f1 = (f1_score(all_labels, all_pred, average='macro'))\n",
    "    \n",
    "    print(f\"Training accuraccy: {acc:.4f} | Training F1-Score: {f1:.4f}\")\n",
    "    \n",
    "    return acc, f1\n",
    "\n",
    "#Validate and Test Func\n",
    "def validate(dataloader, model, loss_fn):\n",
    "    \n",
    "    model.eval()\n",
    "    \n",
    "    all_pred = []\n",
    "    all_labels = []\n",
    "    total_loss = 0\n",
    "    \n",
    "    with torch.no_grad():\n",
    "        for inputs, labels in dataloader:\n",
    "            inputs, labels = inputs.to(device), labels.to(device)\n",
    "            pred = model(inputs)\n",
    "            loss = loss_fn(pred, labels)\n",
    "            _ ,pred_classes = torch.max(pred, 1)\n",
    "\n",
    "            all_pred.extend(pred_classes.cpu().numpy())\n",
    "            all_labels.extend(labels.cpu().numpy())\n",
    "            total_loss += loss.item()\n",
    "                \n",
    "    acc = accuracy_score(all_labels, all_pred)\n",
    "    f1 = (f1_score(all_labels, all_pred, average='macro') )\n",
    "    return acc, f1, total_loss/len(dataloader)\n"
   ]
  },
  {
   "cell_type": "code",
   "execution_count": 8,
   "metadata": {},
   "outputs": [
    {
     "name": "stdout",
     "output_type": "stream",
     "text": [
      "Epoch 1/5\n",
      "-------------------------------\n",
      "Training accuraccy: 0.9750 | Training F1-Score: 0.6530\n",
      "Validation accuraccy: 1.000 | Validation F1-Score: 1.000\n",
      "Epoch 2/5\n",
      "-------------------------------\n",
      "Training accuraccy: 1.0000 | Training F1-Score: 1.0000\n",
      "Validation accuraccy: 1.000 | Validation F1-Score: 1.000\n",
      "Epoch 3/5\n",
      "-------------------------------\n",
      "Training accuraccy: 1.0000 | Training F1-Score: 1.0000\n",
      "Validation accuraccy: 1.000 | Validation F1-Score: 1.000\n",
      "Epoch 4/5\n",
      "-------------------------------\n",
      "Training accuraccy: 1.0000 | Training F1-Score: 1.0000\n",
      "Validation accuraccy: 1.000 | Validation F1-Score: 1.000\n",
      "Epoch 5/5\n",
      "-------------------------------\n",
      "Training accuraccy: 1.0000 | Training F1-Score: 1.0000\n",
      "Validation accuraccy: 1.000 | Validation F1-Score: 1.000\n",
      "Training and Validation Done!\n",
      "Test accuraccy: 0.454 | Test F1-Score: 0.312 | Test loss: 67.538\n",
      "Model saved as model_cnn.pth\n"
     ]
    }
   ],
   "source": [
    "from torch import optim\n",
    "\n",
    "# Define the loss function and optimizer\n",
    "loss_fn = nn.CrossEntropyLoss()\n",
    "optimizer = optim.Adam(model.parameters(), lr=0.01)\n",
    "scheduler = optim.lr_scheduler.ReduceLROnPlateau(optimizer)\n",
    "\n",
    "# Number of epochs\n",
    "EPOCHS = 5\n",
    "\n",
    "# Lists to store training and validation results\n",
    "train_acc = []\n",
    "train_f1 = []\n",
    "\n",
    "val_acc = []\n",
    "val_f1 = []\n",
    "\n",
    "for t in range(EPOCHS):\n",
    "    print(f\"Epoch {t + 1}/{EPOCHS}\\n-------------------------------\")\n",
    "    \n",
    "    # Training phase\n",
    "    acc, f1 = train(train_dataloader, model, loss_fn, optimizer)\n",
    "    \n",
    "    train_acc.append(acc)\n",
    "    train_f1.append(f1)\n",
    "    \n",
    "    # Validation phase\n",
    "    acc, f1, val_loss = validate(val_dataloader, model, loss_fn)\n",
    "    print(f\"Validation accuraccy: {acc:.3f} | Validation F1-Score: {f1:.3f}\")\n",
    "    val_acc.append(acc)\n",
    "    val_f1.append(f1)\n",
    "\n",
    "    scheduler.step(val_loss)\n",
    "    \n",
    "\n",
    "print(\"Training and Validation Done!\")\n",
    "\n",
    "test_acc, test_f1, test_loss = validate(test_dataloader, model, loss_fn)\n",
    "\n",
    "print(f\"Test accuraccy: {test_acc:.3f} | Test F1-Score: {test_f1:.3f} | Test loss: {test_loss:.3f}\")\n",
    "\n",
    "# Save the trained model\n",
    "torch.save(model.state_dict(), MODELS_DIR + \"pre_model_cnn.pth\")\n",
    "print(\"Model saved as model_cnn.pth\")\n"
   ]
  },
  {
   "cell_type": "code",
   "execution_count": 9,
   "metadata": {},
   "outputs": [
    {
     "data": {
      "image/png": "[encoded data removed]",
      "text/plain": [
       "<Figure size 1200x600 with 2 Axes>"
      ]
     },
     "metadata": {},
     "output_type": "display_data"
    }
   ],
   "source": [
    "import matplotlib.pyplot as plt\n",
    "\n",
    "fig, (ax1, ax2) = plt.subplots(1, 2, figsize=(12, 6))\n",
    "\n",
    "# Graficar train_acc y val_acc en la primera subtrama\n",
    "ax1.plot(train_acc, label='train_acc', color='blue')\n",
    "ax1.plot(val_acc, label='val_acc', color='green')\n",
    "ax1.set_title('Train vs Validation Accuracy')\n",
    "ax1.set_xlabel('Época')\n",
    "ax1.set_ylabel('Precisión')\n",
    "ax1.legend()\n",
    "\n",
    "# Graficar train_f1 y val_f1 en la segunda subtrama\n",
    "ax2.plot(train_f1, label='train_f1', color='blue')\n",
    "ax2.plot(val_f1, label='val_f1', color='green')\n",
    "ax2.set_title('Train vs Validation F1 Score')\n",
    "ax2.set_xlabel('Época')\n",
    "ax2.set_ylabel('Puntuación F1')\n",
    "ax2.legend()\n",
    "\n",
    "# Ajustar el espaciado entre las subtramas\n",
    "plt.tight_layout()\n",
    "\n",
    "# Mostrar el gráfico\n",
    "plt.show()"
   ]
  },
  {
   "cell_type": "markdown",
   "metadata": {},
   "source": [
    "# Transfer Learning: ResNet18 y EfficientNet_V2_S"
   ]
  },
  {
   "cell_type": "markdown",
   "metadata": {},
   "source": [
    "## ResNet18"
   ]
  },
  {
   "cell_type": "code",
   "execution_count": 10,
   "metadata": {},
   "outputs": [
    {
     "name": "stdout",
     "output_type": "stream",
     "text": [
      "Shape of X [N, C, H, W]: torch.Size([100, 1, 512, 512])\n",
      "Shape of y: torch.Size([100]) torch.int64\n"
     ]
    },
    {
     "data": {
      "text/plain": [
       "========================================================================================================================\n",
       "Layer (type (var_name))                  Input Shape          Output Shape         Param #              Trainable\n",
       "========================================================================================================================\n",
       "ResNet (ResNet)                          [100, 3, 512, 512]   [100, 3]             --                   Partial\n",
       "├─Conv2d (conv1)                         [100, 3, 512, 512]   [100, 64, 256, 256]  (9,408)              False\n",
       "├─BatchNorm2d (bn1)                      [100, 64, 256, 256]  [100, 64, 256, 256]  (128)                False\n",
       "├─ReLU (relu)                            [100, 64, 256, 256]  [100, 64, 256, 256]  --                   --\n",
       "├─MaxPool2d (maxpool)                    [100, 64, 256, 256]  [100, 64, 128, 128]  --                   --\n",
       "├─Sequential (layer1)                    [100, 64, 128, 128]  [100, 64, 128, 128]  --                   False\n",
       "│    └─BasicBlock (0)                    [100, 64, 128, 128]  [100, 64, 128, 128]  --                   False\n",
       "│    │    └─Conv2d (conv1)               [100, 64, 128, 128]  [100, 64, 128, 128]  (36,864)             False\n",
       "│    │    └─BatchNorm2d (bn1)            [100, 64, 128, 128]  [100, 64, 128, 128]  (128)                False\n",
       "│    │    └─ReLU (relu)                  [100, 64, 128, 128]  [100, 64, 128, 128]  --                   --\n",
       "│    │    └─Conv2d (conv2)               [100, 64, 128, 128]  [100, 64, 128, 128]  (36,864)             False\n",
       "│    │    └─BatchNorm2d (bn2)            [100, 64, 128, 128]  [100, 64, 128, 128]  (128)                False\n",
       "│    │    └─ReLU (relu)                  [100, 64, 128, 128]  [100, 64, 128, 128]  --                   --\n",
       "│    └─BasicBlock (1)                    [100, 64, 128, 128]  [100, 64, 128, 128]  --                   False\n",
       "│    │    └─Conv2d (conv1)               [100, 64, 128, 128]  [100, 64, 128, 128]  (36,864)             False\n",
       "│    │    └─BatchNorm2d (bn1)            [100, 64, 128, 128]  [100, 64, 128, 128]  (128)                False\n",
       "│    │    └─ReLU (relu)                  [100, 64, 128, 128]  [100, 64, 128, 128]  --                   --\n",
       "│    │    └─Conv2d (conv2)               [100, 64, 128, 128]  [100, 64, 128, 128]  (36,864)             False\n",
       "│    │    └─BatchNorm2d (bn2)            [100, 64, 128, 128]  [100, 64, 128, 128]  (128)                False\n",
       "│    │    └─ReLU (relu)                  [100, 64, 128, 128]  [100, 64, 128, 128]  --                   --\n",
       "├─Sequential (layer2)                    [100, 64, 128, 128]  [100, 128, 64, 64]   --                   False\n",
       "│    └─BasicBlock (0)                    [100, 64, 128, 128]  [100, 128, 64, 64]   --                   False\n",
       "│    │    └─Conv2d (conv1)               [100, 64, 128, 128]  [100, 128, 64, 64]   (73,728)             False\n",
       "│    │    └─BatchNorm2d (bn1)            [100, 128, 64, 64]   [100, 128, 64, 64]   (256)                False\n",
       "│    │    └─ReLU (relu)                  [100, 128, 64, 64]   [100, 128, 64, 64]   --                   --\n",
       "│    │    └─Conv2d (conv2)               [100, 128, 64, 64]   [100, 128, 64, 64]   (147,456)            False\n",
       "│    │    └─BatchNorm2d (bn2)            [100, 128, 64, 64]   [100, 128, 64, 64]   (256)                False\n",
       "│    │    └─Sequential (downsample)      [100, 64, 128, 128]  [100, 128, 64, 64]   (8,448)              False\n",
       "│    │    └─ReLU (relu)                  [100, 128, 64, 64]   [100, 128, 64, 64]   --                   --\n",
       "│    └─BasicBlock (1)                    [100, 128, 64, 64]   [100, 128, 64, 64]   --                   False\n",
       "│    │    └─Conv2d (conv1)               [100, 128, 64, 64]   [100, 128, 64, 64]   (147,456)            False\n",
       "│    │    └─BatchNorm2d (bn1)            [100, 128, 64, 64]   [100, 128, 64, 64]   (256)                False\n",
       "│    │    └─ReLU (relu)                  [100, 128, 64, 64]   [100, 128, 64, 64]   --                   --\n",
       "│    │    └─Conv2d (conv2)               [100, 128, 64, 64]   [100, 128, 64, 64]   (147,456)            False\n",
       "│    │    └─BatchNorm2d (bn2)            [100, 128, 64, 64]   [100, 128, 64, 64]   (256)                False\n",
       "│    │    └─ReLU (relu)                  [100, 128, 64, 64]   [100, 128, 64, 64]   --                   --\n",
       "├─Sequential (layer3)                    [100, 128, 64, 64]   [100, 256, 32, 32]   --                   False\n",
       "│    └─BasicBlock (0)                    [100, 128, 64, 64]   [100, 256, 32, 32]   --                   False\n",
       "│    │    └─Conv2d (conv1)               [100, 128, 64, 64]   [100, 256, 32, 32]   (294,912)            False\n",
       "│    │    └─BatchNorm2d (bn1)            [100, 256, 32, 32]   [100, 256, 32, 32]   (512)                False\n",
       "│    │    └─ReLU (relu)                  [100, 256, 32, 32]   [100, 256, 32, 32]   --                   --\n",
       "│    │    └─Conv2d (conv2)               [100, 256, 32, 32]   [100, 256, 32, 32]   (589,824)            False\n",
       "│    │    └─BatchNorm2d (bn2)            [100, 256, 32, 32]   [100, 256, 32, 32]   (512)                False\n",
       "│    │    └─Sequential (downsample)      [100, 128, 64, 64]   [100, 256, 32, 32]   (33,280)             False\n",
       "│    │    └─ReLU (relu)                  [100, 256, 32, 32]   [100, 256, 32, 32]   --                   --\n",
       "│    └─BasicBlock (1)                    [100, 256, 32, 32]   [100, 256, 32, 32]   --                   False\n",
       "│    │    └─Conv2d (conv1)               [100, 256, 32, 32]   [100, 256, 32, 32]   (589,824)            False\n",
       "│    │    └─BatchNorm2d (bn1)            [100, 256, 32, 32]   [100, 256, 32, 32]   (512)                False\n",
       "│    │    └─ReLU (relu)                  [100, 256, 32, 32]   [100, 256, 32, 32]   --                   --\n",
       "│    │    └─Conv2d (conv2)               [100, 256, 32, 32]   [100, 256, 32, 32]   (589,824)            False\n",
       "│    │    └─BatchNorm2d (bn2)            [100, 256, 32, 32]   [100, 256, 32, 32]   (512)                False\n",
       "│    │    └─ReLU (relu)                  [100, 256, 32, 32]   [100, 256, 32, 32]   --                   --\n",
       "├─Sequential (layer4)                    [100, 256, 32, 32]   [100, 512, 16, 16]   --                   False\n",
       "│    └─BasicBlock (0)                    [100, 256, 32, 32]   [100, 512, 16, 16]   --                   False\n",
       "│    │    └─Conv2d (conv1)               [100, 256, 32, 32]   [100, 512, 16, 16]   (1,179,648)          False\n",
       "│    │    └─BatchNorm2d (bn1)            [100, 512, 16, 16]   [100, 512, 16, 16]   (1,024)              False\n",
       "│    │    └─ReLU (relu)                  [100, 512, 16, 16]   [100, 512, 16, 16]   --                   --\n",
       "│    │    └─Conv2d (conv2)               [100, 512, 16, 16]   [100, 512, 16, 16]   (2,359,296)          False\n",
       "│    │    └─BatchNorm2d (bn2)            [100, 512, 16, 16]   [100, 512, 16, 16]   (1,024)              False\n",
       "│    │    └─Sequential (downsample)      [100, 256, 32, 32]   [100, 512, 16, 16]   (132,096)            False\n",
       "│    │    └─ReLU (relu)                  [100, 512, 16, 16]   [100, 512, 16, 16]   --                   --\n",
       "│    └─BasicBlock (1)                    [100, 512, 16, 16]   [100, 512, 16, 16]   --                   False\n",
       "│    │    └─Conv2d (conv1)               [100, 512, 16, 16]   [100, 512, 16, 16]   (2,359,296)          False\n",
       "│    │    └─BatchNorm2d (bn1)            [100, 512, 16, 16]   [100, 512, 16, 16]   (1,024)              False\n",
       "│    │    └─ReLU (relu)                  [100, 512, 16, 16]   [100, 512, 16, 16]   --                   --\n",
       "│    │    └─Conv2d (conv2)               [100, 512, 16, 16]   [100, 512, 16, 16]   (2,359,296)          False\n",
       "│    │    └─BatchNorm2d (bn2)            [100, 512, 16, 16]   [100, 512, 16, 16]   (1,024)              False\n",
       "│    │    └─ReLU (relu)                  [100, 512, 16, 16]   [100, 512, 16, 16]   --                   --\n",
       "├─AdaptiveAvgPool2d (avgpool)            [100, 512, 16, 16]   [100, 512, 1, 1]     --                   --\n",
       "├─Linear (fc)                            [100, 512]           [100, 3]             1,539                True\n",
       "========================================================================================================================\n",
       "Total params: 11,178,051\n",
       "Trainable params: 1,539\n",
       "Non-trainable params: 11,176,512\n",
       "Total mult-adds (Units.GIGABYTES): 947.49\n",
       "========================================================================================================================\n",
       "Input size (MB): 314.57\n",
       "Forward/backward pass size (MB): 20761.81\n",
       "Params size (MB): 44.71\n",
       "Estimated Total Size (MB): 21121.09\n",
       "========================================================================================================================"
      ]
     },
     "execution_count": 10,
     "metadata": {},
     "output_type": "execute_result"
    }
   ],
   "source": [
    "from torchvision import datasets\n",
    "from torch.utils.data import DataLoader, Subset\n",
    "from torchvision.models import resnet18, ResNet18_Weights\n",
    "from torchvision.transforms import Compose, Grayscale\n",
    "import numpy as np\n",
    "\n",
    "# Instanciamos el modelo ResNet18 con los pesos por defecto\n",
    "weights=ResNet18_Weights.DEFAULT\n",
    "auto_transforms = weights.transforms()\n",
    "\n",
    "# Cargamos el dataset con las transformaciones originales\n",
    "transform=Compose([\n",
    "    Grayscale(num_output_channels=3),\n",
    "    auto_transforms,\n",
    "])\n",
    "\n",
    "train_data = datasets.ImageFolder(DATASET_DIR+'training',transform= transforms)\n",
    "train, validation = data.random_split(train_data, [0.8, 0.2])\n",
    "\n",
    "testing = datasets.ImageFolder(DATASET_DIR+'test', transform= transforms)\n",
    "\n",
    "# Seleccionamos un subconjunto de imágenes de entrenamiento \n",
    "reduced_training = Subset(train, range(2500))\n",
    "\n",
    "train_dataloader = DataLoader(reduced_training, batch_size=BATCH_SIZE)\n",
    "test_dataloader = DataLoader(testing, batch_size=BATCH_SIZE)\n",
    "\n",
    "# Estructura de los batches\n",
    "for X, y in test_dataloader:\n",
    "    print(f\"Shape of X [N, C, H, W]: {X.shape}\")\n",
    "    print(f\"Shape of y: {y.shape} {y.dtype}\")\n",
    "    break\n",
    "\n",
    "# Creamos el modelo y congelamos parámetros de la red\n",
    "model = resnet18(weights=weights).to(device)\n",
    "for name, para in model.named_parameters():\n",
    "    para.requires_grad = False\n",
    "\n",
    "# Cambiamos la capa superior con una capa Lineal con 10 clases de salida\n",
    "num_features = model.fc.in_features\n",
    "model.fc = torch.nn.Linear(in_features=num_features,\n",
    "                    out_features=3,\n",
    "                    bias=True).to(device)\n",
    "\n",
    "summary(model,\n",
    "        input_size=(BATCH_SIZE, 3, IMAGE_SIZE, IMAGE_SIZE),\n",
    "        col_names=[\"input_size\", \"output_size\", \"num_params\", \"trainable\"],\n",
    "        col_width=20,\n",
    "        row_settings=[\"var_names\"]\n",
    ")"
   ]
  },
  {
   "cell_type": "code",
   "execution_count": 13,
   "metadata": {},
   "outputs": [
    {
     "data": {
      "text/plain": [
       "torch.utils.data.dataloader.DataLoader"
      ]
     },
     "execution_count": 13,
     "metadata": {},
     "output_type": "execute_result"
    }
   ],
   "source": [
    "type(train_dataloader)"
   ]
  },
  {
   "cell_type": "code",
   "execution_count": 14,
   "metadata": {},
   "outputs": [
    {
     "name": "stdout",
     "output_type": "stream",
     "text": [
      "Epoch 1/5\n",
      "-------------------------------\n"
     ]
    },
    {
     "ename": "TypeError",
     "evalue": "'Subset' object is not callable",
     "output_type": "error",
     "traceback": [
      "\u001b[1;31m---------------------------------------------------------------------------\u001b[0m",
      "\u001b[1;31mTypeError\u001b[0m                                 Traceback (most recent call last)",
      "\u001b[1;32mc:\\Users\\adria\\Documents\\GitHub\\TumorClasiffication_Practice\\ClasificacionImagenesTumores.ipynb Cell 18\u001b[0m line \u001b[0;36m2\n\u001b[0;32m     <a href='vscode-notebook-cell:/c%3A/Users/adria/Documents/GitHub/TumorClasiffication_Practice/ClasificacionImagenesTumores.ipynb#X23sZmlsZQ%3D%3D?line=18'>19</a>\u001b[0m \u001b[39mprint\u001b[39m(\u001b[39mf\u001b[39m\u001b[39m\"\u001b[39m\u001b[39mEpoch \u001b[39m\u001b[39m{\u001b[39;00mt\u001b[39m \u001b[39m\u001b[39m+\u001b[39m\u001b[39m \u001b[39m\u001b[39m1\u001b[39m\u001b[39m}\u001b[39;00m\u001b[39m/\u001b[39m\u001b[39m{\u001b[39;00mEPOCHS\u001b[39m}\u001b[39;00m\u001b[39m\\n\u001b[39;00m\u001b[39m-------------------------------\u001b[39m\u001b[39m\"\u001b[39m)\n\u001b[0;32m     <a href='vscode-notebook-cell:/c%3A/Users/adria/Documents/GitHub/TumorClasiffication_Practice/ClasificacionImagenesTumores.ipynb#X23sZmlsZQ%3D%3D?line=20'>21</a>\u001b[0m \u001b[39m# Training phase\u001b[39;00m\n\u001b[1;32m---> <a href='vscode-notebook-cell:/c%3A/Users/adria/Documents/GitHub/TumorClasiffication_Practice/ClasificacionImagenesTumores.ipynb#X23sZmlsZQ%3D%3D?line=21'>22</a>\u001b[0m acc, f1 \u001b[39m=\u001b[39m train(train_dataloader, model, loss_fn, optimizer)\n\u001b[0;32m     <a href='vscode-notebook-cell:/c%3A/Users/adria/Documents/GitHub/TumorClasiffication_Practice/ClasificacionImagenesTumores.ipynb#X23sZmlsZQ%3D%3D?line=23'>24</a>\u001b[0m train_acc\u001b[39m.\u001b[39mappend(acc)\n\u001b[0;32m     <a href='vscode-notebook-cell:/c%3A/Users/adria/Documents/GitHub/TumorClasiffication_Practice/ClasificacionImagenesTumores.ipynb#X23sZmlsZQ%3D%3D?line=24'>25</a>\u001b[0m train_f1\u001b[39m.\u001b[39mappend(f1)\n",
      "\u001b[1;31mTypeError\u001b[0m: 'Subset' object is not callable"
     ]
    }
   ],
   "source": [
    "from torch import optim\n",
    "\n",
    "# Define the loss function and optimizer\n",
    "loss_fn = nn.CrossEntropyLoss()\n",
    "optimizer = optim.Adam(model.parameters(), lr=0.01)\n",
    "scheduler = optim.lr_scheduler.ReduceLROnPlateau(optimizer)\n",
    "\n",
    "# Number of epochs\n",
    "EPOCHS = 5\n",
    "\n",
    "# Lists to store training and validation results\n",
    "train_acc = []\n",
    "train_f1 = []\n",
    "\n",
    "val_acc = []\n",
    "val_f1 = []\n",
    "\n",
    "for t in range(EPOCHS):\n",
    "    print(f\"Epoch {t + 1}/{EPOCHS}\\n-------------------------------\")\n",
    "    \n",
    "    # Training phase\n",
    "    acc, f1 = train(train_dataloader, model, loss_fn, optimizer)\n",
    "    \n",
    "    train_acc.append(acc)\n",
    "    train_f1.append(f1)\n",
    "    \n",
    "    # Validation phase\n",
    "    acc, f1, val_loss = validate(val_dataloader, model, loss_fn)\n",
    "    print(f\"Validation accuraccy: {acc:.3f} | Validation F1-Score: {f1:.3f}\")\n",
    "    val_acc.append(acc)\n",
    "    val_f1.append(f1)\n",
    "\n",
    "    scheduler.step(val_loss)\n",
    "    \n",
    "\n",
    "print(\"Training and Validation Done!\")\n",
    "\n",
    "test_acc, test_f1, test_loss = validate(test_dataloader, model, loss_fn)\n",
    "\n",
    "print(f\"Test accuraccy: {test_acc:.3f} | Test F1-Score: {test_f1:.3f} | Test loss: {test_loss:.3f}\")\n",
    "\n",
    "# Save the trained model\n",
    "torch.save(model.state_dict(), MODELS_DIR + \"pre_model_cnn.pth\")\n",
    "print(\"Model saved as model_cnn.pth\")\n"
   ]
  }
 ],
 "metadata": {
  "kernelspec": {
   "display_name": "cuda",
   "language": "python",
   "name": "python3"
  },
  "language_info": {
   "codemirror_mode": {
    "name": "ipython",
    "version": 3
   },
   "file_extension": ".py",
   "mimetype": "text/x-python",
   "name": "python",
   "nbconvert_exporter": "python",
   "pygments_lexer": "ipython3",
   "version": "3.11.5"
  }
 },
 "nbformat": 4,
 "nbformat_minor": 2
}
